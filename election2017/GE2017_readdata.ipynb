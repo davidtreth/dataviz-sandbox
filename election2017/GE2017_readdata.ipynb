{
 "cells": [
  {
   "cell_type": "code",
   "execution_count": 1,
   "metadata": {},
   "outputs": [],
   "source": [
    "import csv\n",
    "import os"
   ]
  },
  {
   "cell_type": "code",
   "execution_count": 2,
   "metadata": {},
   "outputs": [],
   "source": [
    "ge2017dir = '2017 UKPGE electoral data - CSV'\n",
    "# data from https://www.electoralcommission.org.uk/who-we-are-and-what-we-do/elections-and-referendums/past-elections-and-referendums/uk-general-elections/results-and-turnout-2017-uk-general-election\n",
    "# has been slightly edited to remove initial lines from csv which will confuse DictReader\n",
    "const_csv = '2017 UKPGE electoral data 3.csv'\n",
    "const_csv = os.path.join(ge2017dir, const_csv)\n",
    "cand_csv = '2017 UKPGE electoral data 4.csv'\n",
    "cand_csv = os.path.join(ge2017dir, cand_csv)"
   ]
  },
  {
   "cell_type": "code",
   "execution_count": 3,
   "metadata": {},
   "outputs": [],
   "source": [
    "def toInt_remsep(num_str):\n",
    "    num_str = num_str.replace(\",\",\"\").strip()\n",
    "    return int(num_str)"
   ]
  },
  {
   "cell_type": "code",
   "execution_count": 4,
   "metadata": {},
   "outputs": [],
   "source": [
    "constituencies = {}\n",
    "cornwall_ONS = [\"E14000964\", \"E14000616\", \"E14001003\", \"E14000961\", \"E14000837\", \"E14000938\"]\n",
    "with open(const_csv, newline='') as csvfile:\n",
    "    reader = csv.DictReader(csvfile)\n",
    "    for row in reader:\n",
    "        ONScode = row['ONS Code']\n",
    "        constname = row['Constituency']\n",
    "        electorate = toInt_remsep(row['Electorate '])\n",
    "        votes_valid = toInt_remsep(row['Total number of valid votes counted'])\n",
    "        ballotscast_all = toInt_remsep(row['Total number of ballots returned by close of poll'])\n",
    "        #print(ONScode, constname, electorate, votes_valid, ballotscast_all)\n",
    "        country = \"\"\n",
    "        if ONScode[0] == \"E\":\n",
    "            country = \"England\"\n",
    "        if ONScode[0] == \"W\":\n",
    "            country = \"Wales\"\n",
    "        if ONScode[0] == \"S\":\n",
    "            country = \"Scotland\"\n",
    "        if ONScode[0] == \"N\":\n",
    "            country = \"Northern Ireland\"        \n",
    "        if ONScode in cornwall_ONS:\n",
    "            country = \"Cornwall\"\n",
    "        constituencies[ONScode] = {}\n",
    "        constituencies[ONScode]['name'] = constname\n",
    "        constituencies[ONScode]['electorate'] = electorate\n",
    "        constituencies[ONScode]['votes_valid'] = votes_valid\n",
    "        constituencies[ONScode]['ballotscast'] = ballotscast_all\n",
    "        constituencies[ONScode]['country'] = country\n",
    "        constituencies[ONScode]['candidates'] = [] # will be a list of tuples (name, party, votes)\n",
    "        "
   ]
  },
  {
   "cell_type": "code",
   "execution_count": 5,
   "metadata": {},
   "outputs": [
    {
     "name": "stdout",
     "output_type": "stream",
     "text": [
      "{'name': 'Camborne and Redruth', 'electorate': 68419, 'votes_valid': 48501, 'ballotscast': 48730, 'country': 'Cornwall', 'candidates': []}\n",
      "{'name': 'North Cornwall', 'electorate': 68844, 'votes_valid': 50944, 'ballotscast': 51128, 'country': 'Cornwall', 'candidates': []}\n",
      "{'name': 'South East Cornwall', 'electorate': 71880, 'votes_valid': 53224, 'ballotscast': 53453, 'country': 'Cornwall', 'candidates': []}\n",
      "{'name': 'St Austell and Newquay', 'electorate': 78609, 'votes_valid': 54212, 'ballotscast': 54531, 'country': 'Cornwall', 'candidates': []}\n",
      "{'name': 'St Ives', 'electorate': 67451, 'votes_valid': 51226, 'ballotscast': 51448, 'country': 'Cornwall', 'candidates': []}\n",
      "{'name': 'Truro and Falmouth', 'electorate': 74683, 'votes_valid': 56647, 'ballotscast': 56807, 'country': 'Cornwall', 'candidates': []}\n"
     ]
    }
   ],
   "source": [
    "for c in constituencies:\n",
    "    if constituencies[c]['country'] == \"Cornwall\":\n",
    "        print(constituencies[c])"
   ]
  },
  {
   "cell_type": "code",
   "execution_count": 6,
   "metadata": {},
   "outputs": [
    {
     "name": "stdout",
     "output_type": "stream",
     "text": [
      "E14000616 Camborne and Redruth Geoff GARBETT Green Party 1052\n",
      "E14000616 Camborne and Redruth Geoff WILLIAMS Liberal Democrats 2979\n",
      "E14000616 Camborne and Redruth Graham Robert WINTER Labour 21424\n",
      "E14000616 Camborne and Redruth Charles George EUSTICE Conservative 23001\n",
      "E14000837 North Cornwall Robert James HAWKINS SLP 138\n",
      "E14000837 North Cornwall John William ALLMAN CPA 185\n",
      "E14000837 North Cornwall Joy BASSETT Labour 6151\n",
      "E14000837 North Cornwall Danile John RODGERSON Liberal Democrats 18635\n",
      "E14000837 North Cornwall Scott Leslie MANN Conservative 25835\n",
      "E14000938 South East Cornwall Martin Charles Stewart CORNEY Green Party 1335\n",
      "E14000938 South East Cornwall Phil HUTTY Liberal Democrats 10346\n",
      "E14000938 South East Cornwall Gareth Gwyn James DERRICK Labour 12050\n",
      "E14000938 South East Cornwall Sheryll MURRAY Conservative 29493\n",
      "E14000961 St Austell and Newquay Stephen David John GILBERT Liberal Democrats 11642\n",
      "E14000961 St Austell and Newquay Kevin Michael NEIL Labour 15714\n",
      "E14000961 St Austell and Newquay Steve DOUBLE Conservative 26856\n",
      "E14000964 St Ives Christopher John DREW Labour 7298\n",
      "E14000964 St Ives Andrew Henry GEORGE Liberal Democrats 21808\n",
      "E14000964 St Ives Derek THOMAS Conservative 22120\n",
      "E14001003 Truro and Falmouth Amanda Alice PENNINGTON Green Party 831\n",
      "E14001003 Truro and Falmouth Duncan Charles ODGERS UKIP 897\n",
      "E14001003 Truro and Falmouth Rob NOLAN Liberal Democrats 8465\n",
      "E14001003 Truro and Falmouth Jayne Susannah KIRKHAM Labour 21331\n",
      "E14001003 Truro and Falmouth Sarah Louise NEWTON Conservative 25123\n"
     ]
    }
   ],
   "source": [
    "candidates = {}\n",
    "parties_all = []\n",
    "parties_long_all = []\n",
    "with open(cand_csv, newline='') as csvfile:\n",
    "    reader = csv.DictReader(csvfile)\n",
    "    for row in reader:\n",
    "        ONScode = row['ONS Code']\n",
    "        constname = row['Constituency']\n",
    "        surname = row['Surname']\n",
    "        firstname = row['First name']\n",
    "        fullname = firstname.strip() + \" \" + surname.strip()\n",
    "        party = row['Party Identifer'] # the shorter form of the party name\n",
    "        if party not in parties_all:\n",
    "            parties_all.append(party)\n",
    "        party_long = row['Party'] # the longer form of the party name\n",
    "        if party_long not in parties_long_all:\n",
    "            parties_all.append(party)        \n",
    "        cand_votes = int(row['Valid votes'])\n",
    "        if ONScode in cornwall_ONS:\n",
    "            print(ONScode, constname, fullname, party, cand_votes)\n",
    "        candidate_tuple = (fullname, party, cand_votes)\n",
    "        constituencies[ONScode]['candidates'].append(candidate_tuple)"
   ]
  },
  {
   "cell_type": "code",
   "execution_count": 7,
   "metadata": {},
   "outputs": [
    {
     "name": "stdout",
     "output_type": "stream",
     "text": [
      "Camborne and Redruth [('Geoff GARBETT', 'Green Party', 1052), ('Geoff WILLIAMS', 'Liberal Democrats', 2979), ('Graham Robert WINTER', 'Labour', 21424), ('Charles George EUSTICE', 'Conservative', 23001)]\n",
      "North Cornwall [('Robert James HAWKINS', 'SLP', 138), ('John William ALLMAN', 'CPA', 185), ('Joy BASSETT', 'Labour', 6151), ('Danile John RODGERSON', 'Liberal Democrats', 18635), ('Scott Leslie MANN', 'Conservative', 25835)]\n",
      "South East Cornwall [('Martin Charles Stewart CORNEY', 'Green Party', 1335), ('Phil HUTTY', 'Liberal Democrats', 10346), ('Gareth Gwyn James DERRICK', 'Labour', 12050), ('Sheryll MURRAY', 'Conservative', 29493)]\n",
      "St Austell and Newquay [('Stephen David John GILBERT', 'Liberal Democrats', 11642), ('Kevin Michael NEIL', 'Labour', 15714), ('Steve DOUBLE', 'Conservative', 26856)]\n",
      "St Ives [('Christopher John DREW', 'Labour', 7298), ('Andrew Henry GEORGE', 'Liberal Democrats', 21808), ('Derek THOMAS', 'Conservative', 22120)]\n",
      "Truro and Falmouth [('Amanda Alice PENNINGTON', 'Green Party', 831), ('Duncan Charles ODGERS', 'UKIP', 897), ('Rob NOLAN', 'Liberal Democrats', 8465), ('Jayne Susannah KIRKHAM', 'Labour', 21331), ('Sarah Louise NEWTON', 'Conservative', 25123)]\n"
     ]
    }
   ],
   "source": [
    "for c in constituencies:\n",
    "    if constituencies[c]['country'] == \"Cornwall\":\n",
    "        print(constituencies[c]['name'], constituencies[c]['candidates'])"
   ]
  },
  {
   "cell_type": "code",
   "execution_count": 8,
   "metadata": {},
   "outputs": [],
   "source": [
    "# reorder candidates in descending order of votes in each constituency\n",
    "for c in constituencies:\n",
    "    candidates = constituencies[c]['candidates']\n",
    "    candidates = candidates.sort(key=lambda x: x[2], reverse=True)"
   ]
  },
  {
   "cell_type": "code",
   "execution_count": 9,
   "metadata": {},
   "outputs": [
    {
     "name": "stdout",
     "output_type": "stream",
     "text": [
      "Camborne and Redruth [('Charles George EUSTICE', 'Conservative', 23001), ('Graham Robert WINTER', 'Labour', 21424), ('Geoff WILLIAMS', 'Liberal Democrats', 2979), ('Geoff GARBETT', 'Green Party', 1052)]\n",
      "North Cornwall [('Scott Leslie MANN', 'Conservative', 25835), ('Danile John RODGERSON', 'Liberal Democrats', 18635), ('Joy BASSETT', 'Labour', 6151), ('John William ALLMAN', 'CPA', 185), ('Robert James HAWKINS', 'SLP', 138)]\n",
      "South East Cornwall [('Sheryll MURRAY', 'Conservative', 29493), ('Gareth Gwyn James DERRICK', 'Labour', 12050), ('Phil HUTTY', 'Liberal Democrats', 10346), ('Martin Charles Stewart CORNEY', 'Green Party', 1335)]\n",
      "St Austell and Newquay [('Steve DOUBLE', 'Conservative', 26856), ('Kevin Michael NEIL', 'Labour', 15714), ('Stephen David John GILBERT', 'Liberal Democrats', 11642)]\n",
      "St Ives [('Derek THOMAS', 'Conservative', 22120), ('Andrew Henry GEORGE', 'Liberal Democrats', 21808), ('Christopher John DREW', 'Labour', 7298)]\n",
      "Truro and Falmouth [('Sarah Louise NEWTON', 'Conservative', 25123), ('Jayne Susannah KIRKHAM', 'Labour', 21331), ('Rob NOLAN', 'Liberal Democrats', 8465), ('Duncan Charles ODGERS', 'UKIP', 897), ('Amanda Alice PENNINGTON', 'Green Party', 831)]\n"
     ]
    }
   ],
   "source": [
    "for c in constituencies:\n",
    "    if constituencies[c]['country'] == \"Cornwall\":\n",
    "        print(constituencies[c]['name'], constituencies[c]['candidates'])"
   ]
  },
  {
   "cell_type": "code",
   "execution_count": 10,
   "metadata": {},
   "outputs": [
    {
     "name": "stdout",
     "output_type": "stream",
     "text": [
      "13\n"
     ]
    }
   ],
   "source": [
    "# maximum number of candidates\n",
    "max_candit = max(len(constituencies[c]['candidates']) for c in constituencies)\n",
    "print(max_candit)"
   ]
  },
  {
   "cell_type": "code",
   "execution_count": 14,
   "metadata": {},
   "outputs": [],
   "source": [
    "candidate_keys = ['name_cand', 'party_cand', 'votes_cand']\n",
    "for c in constituencies:\n",
    "    candidates = constituencies[c]['candidates']\n",
    "    for i, d in enumerate(candidates):\n",
    "        candidate_N = \"_{N}\".format(N=str(i+1).zfill(2))\n",
    "        ckeys = [k+candidate_N for k in candidate_keys]\n",
    "        for k in range(3):\n",
    "            constituencies[c][ckeys[k]] = d[k]\n",
    "    if len(candidates) < max_candit:\n",
    "        emptyN = range(len(candidates), max_candit)\n",
    "        for i in emptyN:\n",
    "            candidate_N = \"_{N}\".format(N=str(i+1).zfill(2))\n",
    "            ckeys = [k+candidate_N for k in candidate_keys]\n",
    "            for k in range(2):\n",
    "                constituencies[c][ckeys[k]] = ''\n",
    "            constituencies[c][ckeys[2]] = 0\n",
    "            "
   ]
  },
  {
   "cell_type": "code",
   "execution_count": 15,
   "metadata": {},
   "outputs": [
    {
     "name": "stdout",
     "output_type": "stream",
     "text": [
      "{'name': 'Camborne and Redruth', 'electorate': 68419, 'votes_valid': 48501, 'ballotscast': 48730, 'country': 'Cornwall', 'candidates': [('Charles George EUSTICE', 'Conservative', 23001), ('Graham Robert WINTER', 'Labour', 21424), ('Geoff WILLIAMS', 'Liberal Democrats', 2979), ('Geoff GARBETT', 'Green Party', 1052)], 'name_cand_01': 'Charles George EUSTICE', 'party_cand_01': 'Conservative', 'votes_cand_01': 23001, 'name_cand_02': 'Graham Robert WINTER', 'party_cand_02': 'Labour', 'votes_cand_02': 21424, 'name_cand_03': 'Geoff WILLIAMS', 'party_cand_03': 'Liberal Democrats', 'votes_cand_03': 2979, 'name_cand_04': 'Geoff GARBETT', 'party_cand_04': 'Green Party', 'votes_cand_04': 1052, 'name_cand_05': '', 'party_cand_05': '', 'votes_cand_05': 0, 'name_cand_06': '', 'party_cand_06': '', 'votes_cand_06': 0, 'name_cand_07': '', 'party_cand_07': '', 'votes_cand_07': 0, 'name_cand_08': '', 'party_cand_08': '', 'votes_cand_08': 0, 'name_cand_09': '', 'party_cand_09': '', 'votes_cand_09': 0, 'name_cand_10': '', 'party_cand_10': '', 'votes_cand_10': 0, 'name_cand_11': '', 'party_cand_11': '', 'votes_cand_11': 0, 'name_cand_12': '', 'party_cand_12': '', 'votes_cand_12': 0, 'name_cand_13': '', 'party_cand_13': '', 'votes_cand_13': 0}\n",
      "{'name': 'North Cornwall', 'electorate': 68844, 'votes_valid': 50944, 'ballotscast': 51128, 'country': 'Cornwall', 'candidates': [('Scott Leslie MANN', 'Conservative', 25835), ('Danile John RODGERSON', 'Liberal Democrats', 18635), ('Joy BASSETT', 'Labour', 6151), ('John William ALLMAN', 'CPA', 185), ('Robert James HAWKINS', 'SLP', 138)], 'name_cand_01': 'Scott Leslie MANN', 'party_cand_01': 'Conservative', 'votes_cand_01': 25835, 'name_cand_02': 'Danile John RODGERSON', 'party_cand_02': 'Liberal Democrats', 'votes_cand_02': 18635, 'name_cand_03': 'Joy BASSETT', 'party_cand_03': 'Labour', 'votes_cand_03': 6151, 'name_cand_04': 'John William ALLMAN', 'party_cand_04': 'CPA', 'votes_cand_04': 185, 'name_cand_05': 'Robert James HAWKINS', 'party_cand_05': 'SLP', 'votes_cand_05': 138, 'name_cand_06': '', 'party_cand_06': '', 'votes_cand_06': 0, 'name_cand_07': '', 'party_cand_07': '', 'votes_cand_07': 0, 'name_cand_08': '', 'party_cand_08': '', 'votes_cand_08': 0, 'name_cand_09': '', 'party_cand_09': '', 'votes_cand_09': 0, 'name_cand_10': '', 'party_cand_10': '', 'votes_cand_10': 0, 'name_cand_11': '', 'party_cand_11': '', 'votes_cand_11': 0, 'name_cand_12': '', 'party_cand_12': '', 'votes_cand_12': 0, 'name_cand_13': '', 'party_cand_13': '', 'votes_cand_13': 0}\n",
      "{'name': 'South East Cornwall', 'electorate': 71880, 'votes_valid': 53224, 'ballotscast': 53453, 'country': 'Cornwall', 'candidates': [('Sheryll MURRAY', 'Conservative', 29493), ('Gareth Gwyn James DERRICK', 'Labour', 12050), ('Phil HUTTY', 'Liberal Democrats', 10346), ('Martin Charles Stewart CORNEY', 'Green Party', 1335)], 'name_cand_01': 'Sheryll MURRAY', 'party_cand_01': 'Conservative', 'votes_cand_01': 29493, 'name_cand_02': 'Gareth Gwyn James DERRICK', 'party_cand_02': 'Labour', 'votes_cand_02': 12050, 'name_cand_03': 'Phil HUTTY', 'party_cand_03': 'Liberal Democrats', 'votes_cand_03': 10346, 'name_cand_04': 'Martin Charles Stewart CORNEY', 'party_cand_04': 'Green Party', 'votes_cand_04': 1335, 'name_cand_05': '', 'party_cand_05': '', 'votes_cand_05': 0, 'name_cand_06': '', 'party_cand_06': '', 'votes_cand_06': 0, 'name_cand_07': '', 'party_cand_07': '', 'votes_cand_07': 0, 'name_cand_08': '', 'party_cand_08': '', 'votes_cand_08': 0, 'name_cand_09': '', 'party_cand_09': '', 'votes_cand_09': 0, 'name_cand_10': '', 'party_cand_10': '', 'votes_cand_10': 0, 'name_cand_11': '', 'party_cand_11': '', 'votes_cand_11': 0, 'name_cand_12': '', 'party_cand_12': '', 'votes_cand_12': 0, 'name_cand_13': '', 'party_cand_13': '', 'votes_cand_13': 0}\n",
      "{'name': 'St Austell and Newquay', 'electorate': 78609, 'votes_valid': 54212, 'ballotscast': 54531, 'country': 'Cornwall', 'candidates': [('Steve DOUBLE', 'Conservative', 26856), ('Kevin Michael NEIL', 'Labour', 15714), ('Stephen David John GILBERT', 'Liberal Democrats', 11642)], 'name_cand_01': 'Steve DOUBLE', 'party_cand_01': 'Conservative', 'votes_cand_01': 26856, 'name_cand_02': 'Kevin Michael NEIL', 'party_cand_02': 'Labour', 'votes_cand_02': 15714, 'name_cand_03': 'Stephen David John GILBERT', 'party_cand_03': 'Liberal Democrats', 'votes_cand_03': 11642, 'name_cand_04': '', 'party_cand_04': '', 'votes_cand_04': 0, 'name_cand_05': '', 'party_cand_05': '', 'votes_cand_05': 0, 'name_cand_06': '', 'party_cand_06': '', 'votes_cand_06': 0, 'name_cand_07': '', 'party_cand_07': '', 'votes_cand_07': 0, 'name_cand_08': '', 'party_cand_08': '', 'votes_cand_08': 0, 'name_cand_09': '', 'party_cand_09': '', 'votes_cand_09': 0, 'name_cand_10': '', 'party_cand_10': '', 'votes_cand_10': 0, 'name_cand_11': '', 'party_cand_11': '', 'votes_cand_11': 0, 'name_cand_12': '', 'party_cand_12': '', 'votes_cand_12': 0, 'name_cand_13': '', 'party_cand_13': '', 'votes_cand_13': 0}\n",
      "{'name': 'St Ives', 'electorate': 67451, 'votes_valid': 51226, 'ballotscast': 51448, 'country': 'Cornwall', 'candidates': [('Derek THOMAS', 'Conservative', 22120), ('Andrew Henry GEORGE', 'Liberal Democrats', 21808), ('Christopher John DREW', 'Labour', 7298)], 'name_cand_01': 'Derek THOMAS', 'party_cand_01': 'Conservative', 'votes_cand_01': 22120, 'name_cand_02': 'Andrew Henry GEORGE', 'party_cand_02': 'Liberal Democrats', 'votes_cand_02': 21808, 'name_cand_03': 'Christopher John DREW', 'party_cand_03': 'Labour', 'votes_cand_03': 7298, 'name_cand_04': '', 'party_cand_04': '', 'votes_cand_04': 0, 'name_cand_05': '', 'party_cand_05': '', 'votes_cand_05': 0, 'name_cand_06': '', 'party_cand_06': '', 'votes_cand_06': 0, 'name_cand_07': '', 'party_cand_07': '', 'votes_cand_07': 0, 'name_cand_08': '', 'party_cand_08': '', 'votes_cand_08': 0, 'name_cand_09': '', 'party_cand_09': '', 'votes_cand_09': 0, 'name_cand_10': '', 'party_cand_10': '', 'votes_cand_10': 0, 'name_cand_11': '', 'party_cand_11': '', 'votes_cand_11': 0, 'name_cand_12': '', 'party_cand_12': '', 'votes_cand_12': 0, 'name_cand_13': '', 'party_cand_13': '', 'votes_cand_13': 0}\n",
      "{'name': 'Truro and Falmouth', 'electorate': 74683, 'votes_valid': 56647, 'ballotscast': 56807, 'country': 'Cornwall', 'candidates': [('Sarah Louise NEWTON', 'Conservative', 25123), ('Jayne Susannah KIRKHAM', 'Labour', 21331), ('Rob NOLAN', 'Liberal Democrats', 8465), ('Duncan Charles ODGERS', 'UKIP', 897), ('Amanda Alice PENNINGTON', 'Green Party', 831)], 'name_cand_01': 'Sarah Louise NEWTON', 'party_cand_01': 'Conservative', 'votes_cand_01': 25123, 'name_cand_02': 'Jayne Susannah KIRKHAM', 'party_cand_02': 'Labour', 'votes_cand_02': 21331, 'name_cand_03': 'Rob NOLAN', 'party_cand_03': 'Liberal Democrats', 'votes_cand_03': 8465, 'name_cand_04': 'Duncan Charles ODGERS', 'party_cand_04': 'UKIP', 'votes_cand_04': 897, 'name_cand_05': 'Amanda Alice PENNINGTON', 'party_cand_05': 'Green Party', 'votes_cand_05': 831, 'name_cand_06': '', 'party_cand_06': '', 'votes_cand_06': 0, 'name_cand_07': '', 'party_cand_07': '', 'votes_cand_07': 0, 'name_cand_08': '', 'party_cand_08': '', 'votes_cand_08': 0, 'name_cand_09': '', 'party_cand_09': '', 'votes_cand_09': 0, 'name_cand_10': '', 'party_cand_10': '', 'votes_cand_10': 0, 'name_cand_11': '', 'party_cand_11': '', 'votes_cand_11': 0, 'name_cand_12': '', 'party_cand_12': '', 'votes_cand_12': 0, 'name_cand_13': '', 'party_cand_13': '', 'votes_cand_13': 0}\n"
     ]
    }
   ],
   "source": [
    "for c in constituencies:\n",
    "    if constituencies[c]['country'] == \"Cornwall\":\n",
    "        print(constituencies[c])"
   ]
  },
  {
   "cell_type": "code",
   "execution_count": 16,
   "metadata": {},
   "outputs": [],
   "source": [
    "with open('ge_results_1lineconst.csv', 'w', newline='') as csvfile:\n",
    "    spamwriter = csv.writer(csvfile, delimiter=',', quotechar='\"', quoting=csv.QUOTE_MINIMAL)\n",
    "    headers = ['ONS_Code', 'Constituency', 'Country', 'Electorate', 'Votes_Valid', 'Ballots_Cast']\n",
    "    for i in range(max_candit):\n",
    "        candidate_N = \"_{N}\".format(N=str(i+1).zfill(2))\n",
    "        ckeys = [k+candidate_N for k in candidate_keys]\n",
    "        for k in ckeys:\n",
    "            headers.append(k)\n",
    "    spamwriter.writerow(headers)        \n",
    "    for c in constituencies:\n",
    "        outrow = [c, constituencies[c]['name'], constituencies[c]['country'], constituencies[c]['electorate'], constituencies[c]['votes_valid'], constituencies[c]['ballotscast']]\n",
    "        for i in range(max_candit):\n",
    "            candidate_N = \"_{N}\".format(N=str(i+1).zfill(2))\n",
    "            ckeys = [k+candidate_N for k in candidate_keys]\n",
    "            for k in ckeys:\n",
    "                outrow.append(constituencies[c][k])\n",
    "        spamwriter.writerow(outrow)    "
   ]
  },
  {
   "cell_type": "code",
   "execution_count": null,
   "metadata": {},
   "outputs": [],
   "source": []
  }
 ],
 "metadata": {
  "kernelspec": {
   "display_name": "Python 3",
   "language": "python",
   "name": "python3"
  },
  "language_info": {
   "codemirror_mode": {
    "name": "ipython",
    "version": 3
   },
   "file_extension": ".py",
   "mimetype": "text/x-python",
   "name": "python",
   "nbconvert_exporter": "python",
   "pygments_lexer": "ipython3",
   "version": "3.7.3"
  }
 },
 "nbformat": 4,
 "nbformat_minor": 2
}
