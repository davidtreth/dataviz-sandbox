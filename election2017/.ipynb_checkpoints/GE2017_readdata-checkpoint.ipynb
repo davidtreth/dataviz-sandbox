{
 "cells": [
  {
   "cell_type": "code",
   "execution_count": 2,
   "metadata": {},
   "outputs": [],
   "source": [
    "import csv\n",
    "import os"
   ]
  },
  {
   "cell_type": "code",
   "execution_count": 3,
   "metadata": {},
   "outputs": [],
   "source": [
    "ge2017dir = '2017 UKPGE electoral data - CSV'\n",
    "# data from https://www.electoralcommission.org.uk/who-we-are-and-what-we-do/elections-and-referendums/past-elections-and-referendums/uk-general-elections/results-and-turnout-2017-uk-general-election\n",
    "# has been slightly edited to remove initial lines from csv which will confuse DictReader\n",
    "const_csv = '2017 UKPGE electoral data 3.csv'\n",
    "const_csv = os.path.join(ge2017dir, const_csv)\n",
    "cand_csv = '2017 UKPGE electoral data 4.csv'\n",
    "cand_csv = os.path.join(ge2017dir, cand_csv)"
   ]
  },
  {
   "cell_type": "code",
   "execution_count": 4,
   "metadata": {},
   "outputs": [],
   "source": [
    "def toInt_remsep(num_str):\n",
    "    num_str = num_str.replace(\",\",\"\").strip()\n",
    "    return int(num_str)"
   ]
  },
  {
   "cell_type": "code",
   "execution_count": 5,
   "metadata": {},
   "outputs": [],
   "source": [
    "constituencies = {}\n",
    "cornwall_ONS = [\"E14000964\", \"E14000616\", \"E14001003\", \"E14000961\", \"E14000837\", \"E14000938\"]\n",
    "with open(const_csv, newline='') as csvfile:\n",
    "    reader = csv.DictReader(csvfile)\n",
    "    for row in reader:\n",
    "        ONScode = row['ONS Code']\n",
    "        constname = row['Constituency']\n",
    "        electorate = toInt_remsep(row['Electorate '])\n",
    "        votes_valid = toInt_remsep(row['Total number of valid votes counted'])\n",
    "        ballotscast_all = toInt_remsep(row['Total number of ballots returned by close of poll'])\n",
    "        #print(ONScode, constname, electorate, votes_valid, ballotscast_all)\n",
    "        country = \"\"\n",
    "        if ONScode[0] == \"E\":\n",
    "            country = \"England\"\n",
    "        if ONScode[0] == \"W\":\n",
    "            country = \"Wales\"\n",
    "        if ONScode[0] == \"S\":\n",
    "            country = \"Scotland\"\n",
    "        if ONScode[0] == \"N\":\n",
    "            country = \"Northern Ireland\"        \n",
    "        if ONScode in cornwall_ONS:\n",
    "            country = \"Cornwall\"\n",
    "        constituencies[ONScode] = {}\n",
    "        constituencies[ONScode]['name'] = constname\n",
    "        constituencies[ONScode]['electorate'] = electorate\n",
    "        constituencies[ONScode]['votes_valid'] = votes_valid\n",
    "        constituencies[ONScode]['ballotscast'] = ballotscast_all\n",
    "        constituencies[ONScode]['country'] = country\n",
    "        constituencies[ONScode]['candidates'] = [] # will be a list of tuples (name, party, votes)\n",
    "        "
   ]
  },
  {
   "cell_type": "code",
   "execution_count": 6,
   "metadata": {},
   "outputs": [
    {
     "name": "stdout",
     "output_type": "stream",
     "text": [
      "{'name': 'Camborne and Redruth', 'electorate': 68419, 'votes_valid': 48501, 'ballotscast': 48730, 'country': 'Cornwall', 'candidates': []}\n",
      "{'name': 'North Cornwall', 'electorate': 68844, 'votes_valid': 50944, 'ballotscast': 51128, 'country': 'Cornwall', 'candidates': []}\n",
      "{'name': 'South East Cornwall', 'electorate': 71880, 'votes_valid': 53224, 'ballotscast': 53453, 'country': 'Cornwall', 'candidates': []}\n",
      "{'name': 'St Austell and Newquay', 'electorate': 78609, 'votes_valid': 54212, 'ballotscast': 54531, 'country': 'Cornwall', 'candidates': []}\n",
      "{'name': 'St Ives', 'electorate': 67451, 'votes_valid': 51226, 'ballotscast': 51448, 'country': 'Cornwall', 'candidates': []}\n",
      "{'name': 'Truro and Falmouth', 'electorate': 74683, 'votes_valid': 56647, 'ballotscast': 56807, 'country': 'Cornwall', 'candidates': []}\n"
     ]
    }
   ],
   "source": [
    "for c in constituencies:\n",
    "    if constituencies[c]['country'] == \"Cornwall\":\n",
    "        print(constituencies[c])"
   ]
  },
  {
   "cell_type": "code",
   "execution_count": 7,
   "metadata": {},
   "outputs": [
    {
     "name": "stdout",
     "output_type": "stream",
     "text": [
      "E14000616 Camborne and Redruth Geoff GARBETT Green Party 1052\n",
      "E14000616 Camborne and Redruth Geoff WILLIAMS Liberal Democrats 2979\n",
      "E14000616 Camborne and Redruth Graham Robert WINTER Labour 21424\n",
      "E14000616 Camborne and Redruth Charles George EUSTICE Conservative 23001\n",
      "E14000837 North Cornwall Robert James HAWKINS SLP 138\n",
      "E14000837 North Cornwall John William ALLMAN CPA 185\n",
      "E14000837 North Cornwall Joy BASSETT Labour 6151\n",
      "E14000837 North Cornwall Danile John RODGERSON Liberal Democrats 18635\n",
      "E14000837 North Cornwall Scott Leslie MANN Conservative 25835\n",
      "E14000938 South East Cornwall Martin Charles Stewart CORNEY Green Party 1335\n",
      "E14000938 South East Cornwall Phil HUTTY Liberal Democrats 10346\n",
      "E14000938 South East Cornwall Gareth Gwyn James DERRICK Labour 12050\n",
      "E14000938 South East Cornwall Sheryll MURRAY Conservative 29493\n",
      "E14000961 St Austell and Newquay Stephen David John GILBERT Liberal Democrats 11642\n",
      "E14000961 St Austell and Newquay Kevin Michael NEIL Labour 15714\n",
      "E14000961 St Austell and Newquay Steve DOUBLE Conservative 26856\n",
      "E14000964 St Ives Christopher John DREW Labour 7298\n",
      "E14000964 St Ives Andrew Henry GEORGE Liberal Democrats 21808\n",
      "E14000964 St Ives Derek THOMAS Conservative 22120\n",
      "E14001003 Truro and Falmouth Amanda Alice PENNINGTON Green Party 831\n",
      "E14001003 Truro and Falmouth Duncan Charles ODGERS UKIP 897\n",
      "E14001003 Truro and Falmouth Rob NOLAN Liberal Democrats 8465\n",
      "E14001003 Truro and Falmouth Jayne Susannah KIRKHAM Labour 21331\n",
      "E14001003 Truro and Falmouth Sarah Louise NEWTON Conservative 25123\n"
     ]
    }
   ],
   "source": [
    "candidates = {}\n",
    "parties_all = []\n",
    "parties_long_all = []\n",
    "with open(cand_csv, newline='') as csvfile:\n",
    "    reader = csv.DictReader(csvfile)\n",
    "    for row in reader:\n",
    "        ONScode = row['ONS Code']\n",
    "        constname = row['Constituency']\n",
    "        surname = row['Surname']\n",
    "        firstname = row['First name']\n",
    "        fullname = firstname.strip() + \" \" + surname.strip()\n",
    "        party = row['Party Identifer'] # the shorter form of the party name\n",
    "        if party not in parties_all:\n",
    "            parties_all.append(party)\n",
    "        party_long = row['Party'] # the longer form of the party name\n",
    "        if party_long not in parties_long_all:\n",
    "            parties_all.append(party)        \n",
    "        cand_votes = int(row['Valid votes'])\n",
    "        if ONScode in cornwall_ONS:\n",
    "            print(ONScode, constname, fullname, party, cand_votes)\n",
    "        candidate_tuple = (fullname, party, cand_votes)\n",
    "        constituencies[ONScode]['candidates'].append(candidate_tuple)"
   ]
  },
  {
   "cell_type": "code",
   "execution_count": 8,
   "metadata": {},
   "outputs": [
    {
     "name": "stdout",
     "output_type": "stream",
     "text": [
      "Camborne and Redruth [('Geoff GARBETT', 'Green Party', 1052), ('Geoff WILLIAMS', 'Liberal Democrats', 2979), ('Graham Robert WINTER', 'Labour', 21424), ('Charles George EUSTICE', 'Conservative', 23001)]\n",
      "North Cornwall [('Robert James HAWKINS', 'SLP', 138), ('John William ALLMAN', 'CPA', 185), ('Joy BASSETT', 'Labour', 6151), ('Danile John RODGERSON', 'Liberal Democrats', 18635), ('Scott Leslie MANN', 'Conservative', 25835)]\n",
      "South East Cornwall [('Martin Charles Stewart CORNEY', 'Green Party', 1335), ('Phil HUTTY', 'Liberal Democrats', 10346), ('Gareth Gwyn James DERRICK', 'Labour', 12050), ('Sheryll MURRAY', 'Conservative', 29493)]\n",
      "St Austell and Newquay [('Stephen David John GILBERT', 'Liberal Democrats', 11642), ('Kevin Michael NEIL', 'Labour', 15714), ('Steve DOUBLE', 'Conservative', 26856)]\n",
      "St Ives [('Christopher John DREW', 'Labour', 7298), ('Andrew Henry GEORGE', 'Liberal Democrats', 21808), ('Derek THOMAS', 'Conservative', 22120)]\n",
      "Truro and Falmouth [('Amanda Alice PENNINGTON', 'Green Party', 831), ('Duncan Charles ODGERS', 'UKIP', 897), ('Rob NOLAN', 'Liberal Democrats', 8465), ('Jayne Susannah KIRKHAM', 'Labour', 21331), ('Sarah Louise NEWTON', 'Conservative', 25123)]\n"
     ]
    }
   ],
   "source": [
    "for c in constituencies:\n",
    "    if constituencies[c]['country'] == \"Cornwall\":\n",
    "        print(constituencies[c]['name'], constituencies[c]['candidates'])"
   ]
  },
  {
   "cell_type": "code",
   "execution_count": 9,
   "metadata": {},
   "outputs": [],
   "source": [
    "# reorder candidates in descending order of votes in each constituency\n",
    "for c in constituencies:\n",
    "    candidates = constituencies[c]['candidates']\n",
    "    candidates = candidates.sort(key=lambda x: x[2], reverse=True)"
   ]
  },
  {
   "cell_type": "code",
   "execution_count": 10,
   "metadata": {},
   "outputs": [
    {
     "name": "stdout",
     "output_type": "stream",
     "text": [
      "Camborne and Redruth [('Charles George EUSTICE', 'Conservative', 23001), ('Graham Robert WINTER', 'Labour', 21424), ('Geoff WILLIAMS', 'Liberal Democrats', 2979), ('Geoff GARBETT', 'Green Party', 1052)]\n",
      "North Cornwall [('Scott Leslie MANN', 'Conservative', 25835), ('Danile John RODGERSON', 'Liberal Democrats', 18635), ('Joy BASSETT', 'Labour', 6151), ('John William ALLMAN', 'CPA', 185), ('Robert James HAWKINS', 'SLP', 138)]\n",
      "South East Cornwall [('Sheryll MURRAY', 'Conservative', 29493), ('Gareth Gwyn James DERRICK', 'Labour', 12050), ('Phil HUTTY', 'Liberal Democrats', 10346), ('Martin Charles Stewart CORNEY', 'Green Party', 1335)]\n",
      "St Austell and Newquay [('Steve DOUBLE', 'Conservative', 26856), ('Kevin Michael NEIL', 'Labour', 15714), ('Stephen David John GILBERT', 'Liberal Democrats', 11642)]\n",
      "St Ives [('Derek THOMAS', 'Conservative', 22120), ('Andrew Henry GEORGE', 'Liberal Democrats', 21808), ('Christopher John DREW', 'Labour', 7298)]\n",
      "Truro and Falmouth [('Sarah Louise NEWTON', 'Conservative', 25123), ('Jayne Susannah KIRKHAM', 'Labour', 21331), ('Rob NOLAN', 'Liberal Democrats', 8465), ('Duncan Charles ODGERS', 'UKIP', 897), ('Amanda Alice PENNINGTON', 'Green Party', 831)]\n"
     ]
    }
   ],
   "source": [
    "for c in constituencies:\n",
    "    if constituencies[c]['country'] == \"Cornwall\":\n",
    "        print(constituencies[c]['name'], constituencies[c]['candidates'])"
   ]
  },
  {
   "cell_type": "code",
   "execution_count": null,
   "metadata": {},
   "outputs": [],
   "source": []
  }
 ],
 "metadata": {
  "kernelspec": {
   "display_name": "Python 3",
   "language": "python",
   "name": "python3"
  },
  "language_info": {
   "codemirror_mode": {
    "name": "ipython",
    "version": 3
   },
   "file_extension": ".py",
   "mimetype": "text/x-python",
   "name": "python",
   "nbconvert_exporter": "python",
   "pygments_lexer": "ipython3",
   "version": "3.7.3"
  }
 },
 "nbformat": 4,
 "nbformat_minor": 2
}
