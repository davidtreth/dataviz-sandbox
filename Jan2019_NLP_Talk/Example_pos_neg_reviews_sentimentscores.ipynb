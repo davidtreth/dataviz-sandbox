{
 "cells": [
  {
   "cell_type": "code",
   "execution_count": 1,
   "metadata": {},
   "outputs": [
    {
     "name": "stderr",
     "output_type": "stream",
     "text": [
      "/usr/lib/python3/dist-packages/nltk/twitter/__init__.py:20: UserWarning: The twython library has not been installed. Some functionality from the twitter package will not be available.\n",
      "  warnings.warn(\"The twython library has not been installed. \"\n"
     ]
    }
   ],
   "source": [
    "import os\n",
    "import time\n",
    "import pickle\n",
    "import numpy as np\n",
    "from nltk.tokenize import sent_tokenize, word_tokenize\n",
    "import matplotlib.pyplot as plt\n",
    "from nltk.sentiment.vader import negated\n",
    "import gamereviews\n",
    "import random"
   ]
  },
  {
   "cell_type": "code",
   "execution_count": 2,
   "metadata": {},
   "outputs": [],
   "source": [
    "# get the reviews   \n",
    "gamereviewdir = os.path.join(\"data\",\"steam_reviews\")\n",
    "posfile = os.path.join(gamereviewdir, \"pos.txt\")\n",
    "negfile = os.path.join(gamereviewdir, \"neg.txt\")\n",
    "\n",
    "# open positive reviews\n",
    "with open(posfile, 'r', errors='replace') as f:\n",
    "        posreviews = f.readlines()\n",
    "\n",
    "# open negative reviews\n",
    "with open(negfile, 'r', errors='replace') as f:\n",
    "        negreviews = f.readlines()"
   ]
  },
  {
   "cell_type": "code",
   "execution_count": 3,
   "metadata": {},
   "outputs": [],
   "source": [
    "# generate the review objects for positive reviews\n",
    "posreview_objs = []\n",
    "for r in posreviews:\n",
    "        revobj = gamereviews.GameReview(r)\n",
    "        posreview_objs.append(revobj)"
   ]
  },
  {
   "cell_type": "code",
   "execution_count": 4,
   "metadata": {},
   "outputs": [],
   "source": [
    "posrev_ex = random.choice(posreview_objs)"
   ]
  },
  {
   "cell_type": "code",
   "execution_count": 5,
   "metadata": {},
   "outputs": [
    {
     "name": "stdout",
     "output_type": "stream",
     "text": [
      "Zombies is really fun, much more light-hearted tone than Treyarch's versions and IW have done quite a good job distancing themselves from it. The 80s aesthetic, the hoff and the soundtrack are all really great. The inclusion of some weapons from the past is also pretty neat too. Overall, really fun. The themepark has tonnes of great minigames that you can sort of relax on for a bit, taking a break from the zombie killing and all.Multiplayer isn't nearly as great. IW have tried to implement all these abilities that make you go fast but the gameplay itself just feels dreadfully slow. Titanfall 2 does this sort of movement system much more better and I would suggest that if you're looking for fast jet-packing action that you just go play that instead.I haven't got around to Campaign yet but I would recommend this purchase on zombies alone (especially with friends)\n",
      "\n"
     ]
    }
   ],
   "source": [
    "print(posrev_ex.reviewtext)"
   ]
  },
  {
   "cell_type": "code",
   "execution_count": 6,
   "metadata": {},
   "outputs": [
    {
     "name": "stdout",
     "output_type": "stream",
     "text": [
      "['zombies', 'is', 'really', 'fun', ',', 'much', 'more', 'light-hearted', 'tone', 'than', 'treyarch', \"'s\", 'versions', 'and', 'iw', 'have', 'done', 'quite', 'a', 'good', 'job', 'distancing', 'themselves', 'from', 'it', '.', 'the', '80s', 'aesthetic', ',', 'the', 'hoff', 'and', 'the', 'soundtrack', 'are', 'all', 'really', 'great', '.', 'the', 'inclusion', 'of', 'some', 'weapons', 'from', 'the', 'past', 'is', 'also', 'pretty', 'neat', 'too', '.', 'overall', ',', 'really', 'fun', '.', 'the', 'themepark', 'has', 'tonnes', 'of', 'great', 'minigames', 'that', 'you', 'can', 'sort', 'of', 'relax', 'on', 'for', 'a', 'bit', ',', 'taking', 'a', 'break', 'from', 'the', 'zombie', 'killing', 'and', 'all.multiplayer', 'is', \"n't\", 'nearly', 'as', 'great', '.', 'iw', 'have', 'tried', 'to', 'implement', 'all', 'these', 'abilities', 'that', 'make', 'you', 'go', 'fast', 'but', 'the', 'gameplay', 'itself', 'just', 'feels', 'dreadfully', 'slow', '.', 'titanfall', '2', 'does', 'this', 'sort', 'of', 'movement', 'system', 'much', 'more', 'better', 'and', 'i', 'would', 'suggest', 'that', 'if', 'you', \"'re\", 'looking', 'for', 'fast', 'jet-packing', 'action', 'that', 'you', 'just', 'go', 'play', 'that', 'instead.i', 'have', \"n't\", 'got', 'around', 'to', 'campaign', 'yet', 'but', 'i', 'would', 'recommend', 'this', 'purchase', 'on', 'zombies', 'alone', '(', 'especially', 'with', 'friends', ')']\n"
     ]
    }
   ],
   "source": [
    "print(posrev_ex.tokens)    "
   ]
  },
  {
   "cell_type": "code",
   "execution_count": 7,
   "metadata": {},
   "outputs": [
    {
     "name": "stdout",
     "output_type": "stream",
     "text": [
      "Zombies is really fun, much more light-hearted tone than Treyarch's versions and IW have done quite a good job distancing themselves from it.\n",
      "[('fun', 0.575), ('good', 0.475)]\n",
      "\n",
      "\n",
      "The 80s aesthetic, the hoff and the soundtrack are all really great.\n",
      "[('great', 0.775)]\n",
      "\n",
      "\n",
      "The inclusion of some weapons from the past is also pretty neat too.\n",
      "[('weapons', -0.475), ('pretty', 0.55), ('neat', 0.5)]\n",
      "\n",
      "\n",
      "Overall, really fun.\n",
      "[('fun', 0.575)]\n",
      "\n",
      "\n",
      "Negated sentence: The themepark has tonnes of great minigames that you can sort of relax on for a bit, taking a break from the zombie killing and all.Multiplayer isn't nearly as great.\n",
      "[('NEG:great', -0.775), ('NEG:relax', -0.475), ('NEG:killing', 0.85), ('NEG:great', -0.775)]\n",
      "\n",
      "\n",
      "IW have tried to implement all these abilities that make you go fast but the gameplay itself just feels dreadfully slow.\n",
      "[('abilities', 0.25), ('dreadfully', -0.675)]\n",
      "\n",
      "\n",
      "Negated sentence: Titanfall 2 does this sort of movement system much more better and I would suggest that if you're looking for fast jet-packing action that you just go play that instead.I haven't got around to Campaign yet but I would recommend this purchase on zombies alone (especially with friends)\n",
      "[('NEG:better', -0.475), ('NEG:play', -0.35), ('NEG:recommend', -0.375), ('NEG:alone', 0.25), ('NEG:friends', -0.525)]\n",
      "\n",
      "\n"
     ]
    }
   ],
   "source": [
    "for n,s, kv in zip(posrev_ex.sentnegated, posrev_ex.sentences, posrev_ex.sentlextok_kvtup_2):\n",
    "    if n==1:\n",
    "        print(\"Negated sentence:\", end=\" \")    \n",
    "    print(s)\n",
    "    print(kv)\n",
    "    print(\"\\n\")"
   ]
  },
  {
   "cell_type": "code",
   "execution_count": 8,
   "metadata": {},
   "outputs": [
    {
     "name": "stdout",
     "output_type": "stream",
     "text": [
      "[('fun', 0.575), ('good', 0.475), ('great', 0.775), ('weapons', -0.475), ('pretty', 0.55), ('neat', 0.5), ('fun', 0.575), ('NEG:great', -0.775), ('NEG:relax', -0.475), ('NEG:killing', 0.85), ('NEG:great', -0.775), ('abilities', 0.25), ('dreadfully', -0.675), ('NEG:better', -0.475), ('NEG:play', -0.35), ('NEG:recommend', -0.375), ('NEG:alone', 0.25), ('NEG:friends', -0.525)]\n"
     ]
    }
   ],
   "source": [
    "print(posrev_ex.lextok_kvtup_2)"
   ]
  },
  {
   "cell_type": "code",
   "execution_count": 9,
   "metadata": {},
   "outputs": [
    {
     "name": "stdout",
     "output_type": "stream",
     "text": [
      "166 tokens of which 18 were in the Vader lexicon\n",
      "Sentiment (after accounting for negation at sentence level):\n",
      "min:-0.775, median:-0.04999999999999999, max:0.85\n"
     ]
    }
   ],
   "source": [
    "print(\"{N} tokens of which {l} were in the Vader lexicon\".format(N=posrev_ex.ntokens, l=posrev_ex.ntokens_lexicon))\n",
    "print(\"Sentiment (after accounting for negation at sentence level):\\nmin:{n}, median:{d}, max:{x}\".format(n=posrev_ex.minSentiment_2,\n",
    "                                                     d=posrev_ex.medianSentiment_2,\n",
    "                                                     x = posrev_ex.maxSentiment_2))"
   ]
  },
  {
   "cell_type": "code",
   "execution_count": 10,
   "metadata": {},
   "outputs": [],
   "source": [
    "# generate the review objects for negative reviews\n",
    "negreview_objs = []\n",
    "for r in negreviews:\n",
    "        revobj = gamereviews.GameReview(r)\n",
    "        negreview_objs.append(revobj)"
   ]
  },
  {
   "cell_type": "code",
   "execution_count": 11,
   "metadata": {},
   "outputs": [],
   "source": [
    "negrev_ex = random.choice(negreview_objs)"
   ]
  },
  {
   "cell_type": "code",
   "execution_count": 12,
   "metadata": {},
   "outputs": [
    {
     "name": "stdout",
     "output_type": "stream",
     "text": [
      "Horrible game. Even for a free weeekend, this game is already dead.\n",
      "\n"
     ]
    }
   ],
   "source": [
    "print(negrev_ex.reviewtext)"
   ]
  },
  {
   "cell_type": "code",
   "execution_count": 13,
   "metadata": {},
   "outputs": [
    {
     "name": "stdout",
     "output_type": "stream",
     "text": [
      "['horrible', 'game', '.', 'even', 'for', 'a', 'free', 'weeekend', ',', 'this', 'game', 'is', 'already', 'dead', '.']\n"
     ]
    }
   ],
   "source": [
    "print(negrev_ex.tokens)   "
   ]
  },
  {
   "cell_type": "code",
   "execution_count": 14,
   "metadata": {},
   "outputs": [
    {
     "name": "stdout",
     "output_type": "stream",
     "text": [
      "Horrible game.\n",
      "[('horrible', -0.625)]\n",
      "\n",
      "\n",
      "Even for a free weeekend, this game is already dead.\n",
      "[('free', 0.575), ('dead', -0.825)]\n",
      "\n",
      "\n"
     ]
    }
   ],
   "source": [
    "for n,s, kv in zip(negrev_ex.sentnegated, negrev_ex.sentences, negrev_ex.sentlextok_kvtup_2):\n",
    "    if n==1:\n",
    "        print(\"Negated sentence:\", end=\" \")    \n",
    "    print(s)\n",
    "    print(kv)\n",
    "    print(\"\\n\")"
   ]
  },
  {
   "cell_type": "code",
   "execution_count": 15,
   "metadata": {},
   "outputs": [
    {
     "name": "stdout",
     "output_type": "stream",
     "text": [
      "[('horrible', -0.625), ('free', 0.575), ('dead', -0.825)]\n"
     ]
    }
   ],
   "source": [
    "print(negrev_ex.lextok_kvtup_2)"
   ]
  },
  {
   "cell_type": "code",
   "execution_count": 16,
   "metadata": {},
   "outputs": [
    {
     "name": "stdout",
     "output_type": "stream",
     "text": [
      "15 tokens of which 3 were in the Vader lexicon\n",
      "Sentiment (after accounting for negation at sentence level):\n",
      "min:-0.825, median:-0.625, max:0.575\n"
     ]
    }
   ],
   "source": [
    "print(\"{N} tokens of which {l} were in the Vader lexicon\".format(N=negrev_ex.ntokens, l=negrev_ex.ntokens_lexicon))\n",
    "print(\"Sentiment (after accounting for negation at sentence level):\\nmin:{n}, median:{d}, max:{x}\".format(n=negrev_ex.minSentiment_2,\n",
    "                                                     d=negrev_ex.medianSentiment_2,\n",
    "                                                     x = negrev_ex.maxSentiment_2))"
   ]
  },
  {
   "cell_type": "code",
   "execution_count": null,
   "metadata": {},
   "outputs": [],
   "source": []
  }
 ],
 "metadata": {
  "kernelspec": {
   "display_name": "Python 3",
   "language": "python",
   "name": "python3"
  },
  "language_info": {
   "codemirror_mode": {
    "name": "ipython",
    "version": 3
   },
   "file_extension": ".py",
   "mimetype": "text/x-python",
   "name": "python",
   "nbconvert_exporter": "python",
   "pygments_lexer": "ipython3",
   "version": "3.6.7"
  }
 },
 "nbformat": 4,
 "nbformat_minor": 2
}
